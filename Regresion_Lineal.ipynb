{
 "cells": [
  {
   "cell_type": "markdown",
   "metadata": {},
   "source": [
    "## <span style=color:green><center>*REGRESIÓN LINEAL*</center></span>\n",
    "### <span style=color:red><center>David Alexis Arias Beltrán</center></span>\n",
    "#### <span style=color:blue><center>Diplomado de Inteligencia Artificial y Aprendizaje Profundo</center></span>"
   ]
  },
  {
   "cell_type": "markdown",
   "metadata": {},
   "source": [
    "### Contenido"
   ]
  },
  {
   "cell_type": "markdown",
   "metadata": {},
   "source": [
    "1. Introducción\n",
    "2. Historia de la regresión lineal\n",
    "3. Algoritmo y problema\n",
    "4. Conclusiones"
   ]
  },
  {
   "cell_type": "markdown",
   "metadata": {},
   "source": [
    "### 1. Introducción"
   ]
  },
  {
   "cell_type": "markdown",
   "metadata": {},
   "source": [
    "En este ensayo se encontrará una revisión histórica sobre el concepto de regresión lineal y de su utilidad implementada en el campo de la estadística y a su vez en el machine learning. Cabe resaltar que se hará la implementación de un algoritmo el cual utilizará datos reales y que reflejará el concepto de regresión lineal frente a la formación de un modelo."
   ]
  },
  {
   "cell_type": "markdown",
   "metadata": {},
   "source": [
    "### 2. Historia de la regresión lineal"
   ]
  },
  {
   "cell_type": "markdown",
   "metadata": {},
   "source": [
    "La regresión lineal es un método estadístico que estudia la relación que existe entre 2 variables que en pocas palabras, se traduce como un modelo lineal."
   ]
  },
  {
   "cell_type": "markdown",
   "metadata": {},
   "source": [
    "![Imagen regresion](https://www.iartificial.net/wp-content/uploads/2018/12/ejemplo-error-cuadratico-medio2.png)"
   ]
  },
  {
   "cell_type": "markdown",
   "metadata": {},
   "source": [
    "Fuente: [IArtifical.net](https://www.iartificial.net/regresion-lineal-con-ejemplos-en-python/)"
   ]
  },
  {
   "cell_type": "markdown",
   "metadata": {},
   "source": [
    "El primer método documentado fue el de mínimos cuadrados el cual fue publicado por el matemático Adrien-Marie Legendre en el año de 1805, pero posteriormente, el reconocido matemático Gauss profundizó este concepto y desarrollado de manera más específica. [Wikipedia](https://es.wikipedia.org/wiki/Regresi%C3%B3n_lineal)"
   ]
  },
  {
   "cell_type": "markdown",
   "metadata": {},
   "source": [
    "![Matemático Legendre](Legendre.jpg)"
   ]
  },
  {
   "cell_type": "markdown",
   "metadata": {},
   "source": [
    "### 3. Algoritmo y problema"
   ]
  },
  {
   "cell_type": "markdown",
   "metadata": {},
   "source": [
    "En primer lugar, se escogió un dataset propio de sklearn. En este caso, durante el desarrollo del algoritmo, se seleccionó el dataset correspondiente a *Wine recognition*"
   ]
  },
  {
   "cell_type": "code",
   "execution_count": 23,
   "metadata": {},
   "outputs": [],
   "source": [
    "import pandas as pd\n",
    "import numpy as np\n",
    "import matplotlib.pyplot as plt\n",
    "import sklearn as skl\n",
    "from sklearn.datasets import load_wine\n",
    "import scipy as sc"
   ]
  },
  {
   "cell_type": "code",
   "execution_count": 24,
   "metadata": {},
   "outputs": [
    {
     "name": "stdout",
     "output_type": "stream",
     "text": [
      ".. _wine_dataset:\n",
      "\n",
      "Wine recognition dataset\n",
      "------------------------\n",
      "\n",
      "**Data Set Characteristics:**\n",
      "\n",
      "    :Number of Instances: 178 (50 in each of three classes)\n",
      "    :Number of Attributes: 13 numeric, predictive attributes and the class\n",
      "    :Attribute Information:\n",
      " \t\t- Alcohol\n",
      " \t\t- Malic acid\n",
      " \t\t- Ash\n",
      "\t\t- Alcalinity of ash  \n",
      " \t\t- Magnesium\n",
      "\t\t- Total phenols\n",
      " \t\t- Flavanoids\n",
      " \t\t- Nonflavanoid phenols\n",
      " \t\t- Proanthocyanins\n",
      "\t\t- Color intensity\n",
      " \t\t- Hue\n",
      " \t\t- OD280/OD315 of diluted wines\n",
      " \t\t- Proline\n",
      "\n",
      "    - class:\n",
      "            - class_0\n",
      "            - class_1\n",
      "            - class_2\n",
      "\t\t\n",
      "    :Summary Statistics:\n",
      "    \n",
      "    ============================= ==== ===== ======= =====\n",
      "                                   Min   Max   Mean     SD\n",
      "    ============================= ==== ===== ======= =====\n",
      "    Alcohol:                      11.0  14.8    13.0   0.8\n",
      "    Malic Acid:                   0.74  5.80    2.34  1.12\n",
      "    Ash:                          1.36  3.23    2.36  0.27\n",
      "    Alcalinity of Ash:            10.6  30.0    19.5   3.3\n",
      "    Magnesium:                    70.0 162.0    99.7  14.3\n",
      "    Total Phenols:                0.98  3.88    2.29  0.63\n",
      "    Flavanoids:                   0.34  5.08    2.03  1.00\n",
      "    Nonflavanoid Phenols:         0.13  0.66    0.36  0.12\n",
      "    Proanthocyanins:              0.41  3.58    1.59  0.57\n",
      "    Colour Intensity:              1.3  13.0     5.1   2.3\n",
      "    Hue:                          0.48  1.71    0.96  0.23\n",
      "    OD280/OD315 of diluted wines: 1.27  4.00    2.61  0.71\n",
      "    Proline:                       278  1680     746   315\n",
      "    ============================= ==== ===== ======= =====\n",
      "\n",
      "    :Missing Attribute Values: None\n",
      "    :Class Distribution: class_0 (59), class_1 (71), class_2 (48)\n",
      "    :Creator: R.A. Fisher\n",
      "    :Donor: Michael Marshall (MARSHALL%PLU@io.arc.nasa.gov)\n",
      "    :Date: July, 1988\n",
      "\n",
      "This is a copy of UCI ML Wine recognition datasets.\n",
      "https://archive.ics.uci.edu/ml/machine-learning-databases/wine/wine.data\n",
      "\n",
      "The data is the results of a chemical analysis of wines grown in the same\n",
      "region in Italy by three different cultivators. There are thirteen different\n",
      "measurements taken for different constituents found in the three types of\n",
      "wine.\n",
      "\n",
      "Original Owners: \n",
      "\n",
      "Forina, M. et al, PARVUS - \n",
      "An Extendible Package for Data Exploration, Classification and Correlation. \n",
      "Institute of Pharmaceutical and Food Analysis and Technologies,\n",
      "Via Brigata Salerno, 16147 Genoa, Italy.\n",
      "\n",
      "Citation:\n",
      "\n",
      "Lichman, M. (2013). UCI Machine Learning Repository\n",
      "[https://archive.ics.uci.edu/ml]. Irvine, CA: University of California,\n",
      "School of Information and Computer Science. \n",
      "\n",
      ".. topic:: References\n",
      "\n",
      "  (1) S. Aeberhard, D. Coomans and O. de Vel, \n",
      "  Comparison of Classifiers in High Dimensional Settings, \n",
      "  Tech. Rep. no. 92-02, (1992), Dept. of Computer Science and Dept. of  \n",
      "  Mathematics and Statistics, James Cook University of North Queensland. \n",
      "  (Also submitted to Technometrics). \n",
      "\n",
      "  The data was used with many others for comparing various \n",
      "  classifiers. The classes are separable, though only RDA \n",
      "  has achieved 100% correct classification. \n",
      "  (RDA : 100%, QDA 99.4%, LDA 98.9%, 1NN 96.1% (z-transformed data)) \n",
      "  (All results using the leave-one-out technique) \n",
      "\n",
      "  (2) S. Aeberhard, D. Coomans and O. de Vel, \n",
      "  \"THE CLASSIFICATION PERFORMANCE OF RDA\" \n",
      "  Tech. Rep. no. 92-01, (1992), Dept. of Computer Science and Dept. of \n",
      "  Mathematics and Statistics, James Cook University of North Queensland. \n",
      "  (Also submitted to Journal of Chemometrics).\n",
      "\n"
     ]
    }
   ],
   "source": [
    "wine_dataset = load_wine()\n",
    "print(wine_dataset.DESCR)"
   ]
  },
  {
   "cell_type": "markdown",
   "metadata": {},
   "source": [
    "Seguido a esto, se pretende conocer la relación que existe entre las variables *hue* (matiz del vino) que se traduce a que tan vieja es la bebida y la variable *color intensity*"
   ]
  },
  {
   "cell_type": "code",
   "execution_count": 25,
   "metadata": {},
   "outputs": [],
   "source": [
    "X = wine_dataset.data\n",
    "n, p = X.shape\n",
    "s6 = X[:, 9]#color \n",
    "s7 = X[:, 10]#matiz"
   ]
  },
  {
   "cell_type": "code",
   "execution_count": 41,
   "metadata": {},
   "outputs": [],
   "source": [
    "def relation_rm_medv(s6, means):\n",
    "    plt.scatter(s6,means,alpha=0.5)\n",
    "    plt.title(\"Relación de matiz y color\")\n",
    "    plt.xlabel('Intensidad de color')\n",
    "    plt.ylabel('Matiz')\n",
    "    plt.show()\n",
    "    return np.corrcoef(s6,means)[0, 1]"
   ]
  },
  {
   "cell_type": "code",
   "execution_count": 42,
   "metadata": {},
   "outputs": [
    {
     "data": {
      "image/png": "[encoded data removed]",
      "text/plain": [
       "<Figure size 432x288 with 1 Axes>"
      ]
     },
     "metadata": {
      "needs_background": "light"
     },
     "output_type": "display_data"
    },
    {
     "name": "stdout",
     "output_type": "stream",
     "text": [
      "La correlación de Matiz e Intensidad de color es: -0.5218131932287577\n"
     ]
    }
   ],
   "source": [
    "print(\"La correlación de Matiz e Intensidad de color es:\", relation_rm_medv(s6, s7))"
   ]
  },
  {
   "cell_type": "markdown",
   "metadata": {},
   "source": [
    "Como se puede observar, la distribución de los datos tiende a conformar una posibilidad de describir el comportamiento de los datos mediante un modelo lineal, lo cual se confirma con el resultado de la correlación entre las variables en estudio (matiz e intensidad de color).\n",
    "\n",
    "Seguido a esto, se realizó el algoritmo para encontrar el modelo lineal que describa de mejor manera el comportamiento de estos."
   ]
  },
  {
   "cell_type": "code",
   "execution_count": 49,
   "metadata": {},
   "outputs": [
    {
     "data": {
      "image/png": "[encoded data removed]",
      "text/plain": [
       "<Figure size 432x288 with 1 Axes>"
      ]
     },
     "metadata": {
      "needs_background": "light"
     },
     "output_type": "display_data"
    },
    {
     "name": "stdout",
     "output_type": "stream",
     "text": [
      "w =  [ 1.21767911 -0.05144821]\n",
      "Matiz para una intensidad de color de 1.3:  1.15\n",
      "La intensidad de color para un matiz de 0.05 es:  22.7\n",
      "ECM:  0.04\n"
     ]
    }
   ],
   "source": [
    "def lineal_regression(x, means):\n",
    "#   W = (Xt*X)^-1 * Xt*Y \n",
    "    w = np.linalg.inv(x.T @ x) @ x.T @ s7\n",
    "    plt.scatter(s6, means, alpha=0.5)\n",
    "    plt.plot(s6, x @ w, color=\"green\")\n",
    "    plt.title(\"Regresión Lineal\")\n",
    "    plt.xlabel('Intensidad de color')\n",
    "    plt.ylabel('Matiz')\n",
    "    plt.show()\n",
    "    return w, x @ w\n",
    "  \n",
    "def predecir_matiz(matiz, w):\n",
    "    return (w[0] + w[1] * matiz)\n",
    "  \n",
    "def predict_from_price(price, w):\n",
    "    return (price - w[0]) / w[1]\n",
    "  \n",
    "def get_mse(yp, y):\n",
    "    return np.mean(np.square(np.subtract(yp, y)))\n",
    "    \n",
    "\n",
    "w, yp = lineal_regression(np.c_[np.ones(s6.shape[0]), s6], s7)\n",
    "print('w = ', w)\n",
    "print('Matiz para una intensidad de color de 1.3: ',np.round(predecir_matiz(1.3, w),2))\n",
    "print('La intensidad de color para un matiz de 0.05 es: ', np.round(predict_from_price(0.05, w),2))\n",
    "print('ECM: ',np.round(get_mse(yp, s7),2))"
   ]
  },
  {
   "cell_type": "markdown",
   "metadata": {},
   "source": [
    "Teniendo los resultados anteriores, la ecuación correspondiente al modelo obtenido es:"
   ]
  },
  {
   "cell_type": "markdown",
   "metadata": {},
   "source": [
    "$$y=-0.0514w_{0}+1.2176w_{1}$$"
   ]
  },
  {
   "cell_type": "markdown",
   "metadata": {},
   "source": [
    "Siendo el coeficiente que acompaña a $w_{0}$ la pendiente de la recta y el coeficiente del término de $w_{1}$ el punto de corte con el eje Y de la gráfica."
   ]
  },
  {
   "cell_type": "markdown",
   "metadata": {},
   "source": [
    "#### Conclusiones"
   ]
  },
  {
   "cell_type": "markdown",
   "metadata": {},
   "source": [
    "1. Se determinó el modelo de regresión lineal que comprendia la relación entre la variable de matiz e intensidad de color del vino.\n",
    "2. La correlación lineal entre los datos apunta una relación lineal de fuerza media, es decir, los datos no tienden a tener cierta concentración, por consiguiente, la correlación empieza a disminuir (presencia de datos atípicos).\n",
    "3. Las predicciones realizadas dan constancia a que el modelo realizado permite realizar este tipo de acciones a pesar de no tener los correspondientes datos.\n"
   ]
  },
  {
   "cell_type": "code",
   "execution_count": null,
   "metadata": {},
   "outputs": [],
   "source": []
  }
 ],
 "metadata": {
  "kernelspec": {
   "display_name": "Python 3",
   "language": "python",
   "name": "python3"
  },
  "language_info": {
   "codemirror_mode": {
    "name": "ipython",
    "version": 3
   },
   "file_extension": ".py",
   "mimetype": "text/x-python",
   "name": "python",
   "nbconvert_exporter": "python",
   "pygments_lexer": "ipython3",
   "version": "3.8.5"
  }
 },
 "nbformat": 4,
 "nbformat_minor": 4
}
