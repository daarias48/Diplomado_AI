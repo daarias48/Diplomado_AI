{
 "cells": [
  {
   "cell_type": "markdown",
   "metadata": {},
   "source": [
    "## <span style=color:green><center>ALGEBRA DE TENSORES (TALLER)</center></span>\n",
    "### <span style=color:red><center>_David Alexis Arias Beltrán_</center></span>"
   ]
  },
  {
   "cell_type": "markdown",
   "metadata": {},
   "source": [
    "#### Importar las librerias necesarias"
   ]
  },
  {
   "cell_type": "code",
   "execution_count": 2,
   "metadata": {},
   "outputs": [],
   "source": [
    "import tensorflow as tf\n",
    "import numpy as np"
   ]
  },
  {
   "cell_type": "markdown",
   "metadata": {},
   "source": [
    "#### Tópicos esenciales"
   ]
  },
  {
   "cell_type": "code",
   "execution_count": 3,
   "metadata": {},
   "outputs": [
    {
     "name": "stdout",
     "output_type": "stream",
     "text": [
      "tf.Tensor(278, shape=(), dtype=int32)\n"
     ]
    }
   ],
   "source": [
    "t0= tf.constant(278) #constante\n",
    "print(t0)"
   ]
  },
  {
   "cell_type": "code",
   "execution_count": 4,
   "metadata": {},
   "outputs": [
    {
     "name": "stdout",
     "output_type": "stream",
     "text": [
      "tf.Tensor([4 5 3], shape=(3,), dtype=int32)\n"
     ]
    }
   ],
   "source": [
    "t1=tf.constant([4, 5, 3]) # vector. Se deben poner las comas necesariamente\n",
    "print(t1)"
   ]
  },
  {
   "cell_type": "code",
   "execution_count": 5,
   "metadata": {},
   "outputs": [
    {
     "name": "stdout",
     "output_type": "stream",
     "text": [
      "tf.Tensor(\n",
      "[[4 8 9]\n",
      " [1 1 0]], shape=(2, 3), dtype=int32)\n"
     ]
    }
   ],
   "source": [
    "t23=tf.constant([[4,8,9],[1,1,0]]) #En la lista se encuentran 2 vectores con 3 elementos\n",
    "print(t23) #Los dos deben tener la misma cantidad de elementos"
   ]
  },
  {
   "cell_type": "code",
   "execution_count": 6,
   "metadata": {},
   "outputs": [
    {
     "name": "stdout",
     "output_type": "stream",
     "text": [
      "tf.Tensor(\n",
      "[[[ 1  2  3  4  5]\n",
      "  [ 6  7  8  9 10]\n",
      "  [11 12 13 14 15]]\n",
      "\n",
      " [[16 17 18 67 26]\n",
      "  [21 22 23 24 25]\n",
      "  [26 27 28 29 30]]\n",
      "\n",
      " [[52  7  9  9  1]\n",
      "  [12 45  6  0  8]\n",
      "  [ 9  1 12 45 98]]], shape=(3, 3, 5), dtype=int32)\n"
     ]
    }
   ],
   "source": [
    "tf456=tf.constant([[[1,2,3,4,5],[6,7,8,9,10],[11,12,13,14,15]],\n",
    "                    [[16,17,18,67,26],[21,22,23,24,25],[26,27,28,29,30]],\n",
    "                  [[52,7,9,9,1],[12,45,6,0,8],[9,1,12,45,98]]])\n",
    "print(tf456) #3 listas c/u con 3 listas de 5 elementos"
   ]
  },
  {
   "cell_type": "code",
   "execution_count": 7,
   "metadata": {},
   "outputs": [
    {
     "data": {
      "text/plain": [
       "array([[[ 1,  2,  3,  4,  5],\n",
       "        [ 6,  7,  8,  9, 10],\n",
       "        [11, 12, 13, 14, 15]],\n",
       "\n",
       "       [[16, 17, 18, 67, 26],\n",
       "        [21, 22, 23, 24, 25],\n",
       "        [26, 27, 28, 29, 30]],\n",
       "\n",
       "       [[52,  7,  9,  9,  1],\n",
       "        [12, 45,  6,  0,  8],\n",
       "        [ 9,  1, 12, 45, 98]]])"
      ]
     },
     "execution_count": 7,
     "metadata": {},
     "output_type": "execute_result"
    }
   ],
   "source": [
    "tf456.numpy()"
   ]
  },
  {
   "cell_type": "code",
   "execution_count": 8,
   "metadata": {},
   "outputs": [
    {
     "data": {
      "text/plain": [
       "(3, 3, 5)"
      ]
     },
     "execution_count": 8,
     "metadata": {},
     "output_type": "execute_result"
    }
   ],
   "source": [
    "tf456.numpy().shape"
   ]
  },
  {
   "cell_type": "markdown",
   "metadata": {},
   "source": [
    "#### Álgebra de vectores"
   ]
  },
  {
   "cell_type": "code",
   "execution_count": 9,
   "metadata": {},
   "outputs": [
    {
     "name": "stdout",
     "output_type": "stream",
     "text": [
      "tf.Tensor(\n",
      "[[2 5 7]\n",
      " [8 5 3]\n",
      " [2 3 0]], shape=(3, 3), dtype=int32) \n",
      "\n",
      "tf.Tensor(\n",
      "[[5 5 1]\n",
      " [3 2 1]\n",
      " [1 8 9]], shape=(3, 3), dtype=int32) \n",
      "\n",
      "Suma \n",
      "\n",
      "tf.Tensor(\n",
      "[[ 7 10  8]\n",
      " [11  7  4]\n",
      " [ 3 11  9]], shape=(3, 3), dtype=int32) \n",
      "\n",
      "Multiplicación \n",
      "\n",
      "tf.Tensor(\n",
      "[[10 25  7]\n",
      " [24 10  3]\n",
      " [ 2 24  0]], shape=(3, 3), dtype=int32) \n",
      "\n",
      "tf.Tensor(\n",
      "[[32 76 70]\n",
      " [58 74 40]\n",
      " [19 16  5]], shape=(3, 3), dtype=int32) \n",
      "\n"
     ]
    }
   ],
   "source": [
    "a = tf.constant([[2,5,7],[8,5,3],[2,3,0]])\n",
    "b = tf.constant([[5,5,1],[3,2,1],[1,8,9]])\n",
    "print (a,\"\\n\")\n",
    "print (b,\"\\n\")\n",
    "print('Suma',\"\\n\")\n",
    "print(tf.add(a,b),\"\\n\")#Para la suma deben tener la misma cantidad de elementos\n",
    "print('Multiplicación',\"\\n\")\n",
    "print(tf.multiply(a,b),\"\\n\")#Para la multiplicacion deben tener la misma cantidad de elementos\n",
    "print(tf.matmul(a,b),\"\\n\") #El número de listas=número de elementos de c/u"
   ]
  },
  {
   "cell_type": "code",
   "execution_count": 10,
   "metadata": {},
   "outputs": [
    {
     "name": "stdout",
     "output_type": "stream",
     "text": [
      "tf.Tensor(\n",
      "[[ 7 10  8]\n",
      " [11  7  4]\n",
      " [ 3 11  9]], shape=(3, 3), dtype=int32) \n",
      "\n",
      "tf.Tensor(\n",
      "[[10 25  7]\n",
      " [24 10  3]\n",
      " [ 2 24  0]], shape=(3, 3), dtype=int32) \n",
      "\n",
      "tf.Tensor(\n",
      "[[32 76 70]\n",
      " [58 74 40]\n",
      " [19 16  5]], shape=(3, 3), dtype=int32) \n",
      "\n"
     ]
    }
   ],
   "source": [
    "print(a+b,\"\\n\")\n",
    "print(a*b, \"\\n\")\n",
    "print(a@b, \"\\n\")"
   ]
  },
  {
   "cell_type": "markdown",
   "metadata": {},
   "source": [
    "#### Funciones de Reducción"
   ]
  },
  {
   "cell_type": "code",
   "execution_count": 11,
   "metadata": {},
   "outputs": [
    {
     "name": "stdout",
     "output_type": "stream",
     "text": [
      "tf.Tensor(\n",
      "[[ 3.35  7.89]\n",
      " [23.1   1.1 ]], shape=(2, 2), dtype=float32) \n",
      "\n",
      "Valor máximo\n",
      "\n",
      "tf.Tensor(23.1, shape=(), dtype=float32) \n",
      "\n",
      "Valor mínimo\n",
      "\n",
      "tf.Tensor(1.1, shape=(), dtype=float32) \n",
      "\n",
      "Promedio\n",
      "\n",
      "tf.Tensor(8.86, shape=(), dtype=float32) \n",
      "\n",
      "Valor máximo 2\n",
      "\n",
      "tf.Tensor([1 0], shape=(2,), dtype=int64) \n",
      "\n",
      "Softmax\n",
      "\n",
      "tf.Tensor(\n",
      "[[1.0560688e-02 9.8943931e-01]\n",
      " [1.0000000e+00 2.7894681e-10]], shape=(2, 2), dtype=float32) \n",
      "\n",
      "Valor 3\n",
      "\n",
      "tf.Tensor([1. 1.], shape=(2,), dtype=float32) \n",
      "\n"
     ]
    }
   ],
   "source": [
    "c = tf.constant([[3.35, 7.89],[23.1,1.1]])\n",
    "\n",
    "print(c,\"\\n\")\n",
    "print(\"Valor máximo\\n\")\n",
    "print(tf.reduce_max(c),\"\\n\")\n",
    "print(\"Valor mínimo\\n\")\n",
    "print(tf.reduce_min(c),\"\\n\")\n",
    "print(\"Promedio\\n\")\n",
    "print(tf.reduce_mean(c),\"\\n\")\n",
    "print(\"Valor máximo 2\\n\")\n",
    "print(tf.argmax(c),\"\\n\")#Valor mayor y ubicación del mismo\n",
    "print(\"Softmax\\n\")\n",
    "print(tf.nn.softmax(c),\"\\n\")\n",
    "print(\"Valor 3\\n\")\n",
    "print(tf.reduce_sum(tf.nn.softmax(c),axis=1),\"\\n\")"
   ]
  },
  {
   "cell_type": "markdown",
   "metadata": {},
   "source": [
    "#### Tipos, formas y dimensión"
   ]
  },
  {
   "cell_type": "code",
   "execution_count": 12,
   "metadata": {},
   "outputs": [
    {
     "name": "stdout",
     "output_type": "stream",
     "text": [
      "<dtype: 'float32'> \n",
      "\n",
      "(3, 2, 5) \n",
      "\n",
      "3 \n",
      "\n",
      "2 \n",
      "\n",
      "tf.Tensor(30, shape=(), dtype=int32) \n",
      "\n"
     ]
    }
   ],
   "source": [
    "t = tf.constant([\n",
    "  [[0, 1.7, 8.2, 3, 3.4],\n",
    "   [5, 61.12121, 7, 8, 9]],\n",
    "  [[10, np.sqrt(12), 12, 13, 14],\n",
    "   [15, 16, 17, 18, 19]],\n",
    "  [[20, 16*np.sqrt(4), 22, 2**2, 24],\n",
    "   [25, 26, 27, 28, 29]],])\n",
    "print(t.dtype,\"\\n\")#tipos de datos que contienen\n",
    "print(t.shape,\"\\n\")#dimensiones\n",
    "print(t.ndim,\"\\n\")\n",
    "print(t.shape[1],\"\\n\")\n",
    "print(tf.size(t.numpy()),\"\\n\")#número de elementos"
   ]
  },
  {
   "cell_type": "markdown",
   "metadata": {},
   "source": [
    "#### Indexación"
   ]
  },
  {
   "cell_type": "code",
   "execution_count": 13,
   "metadata": {},
   "outputs": [
    {
     "name": "stdout",
     "output_type": "stream",
     "text": [
      "Primero:  tf.Tensor(0.0, shape=(), dtype=float32)\n",
      "Segundo:  tf.Tensor(9.0, shape=(), dtype=float32)\n",
      "Penúltimo:  21.0\n",
      "Tercero de derecha a izquierda:  54.0\n"
     ]
    }
   ],
   "source": [
    "t1 =  tf.constant([0, np.sqrt(81), 1, 2, 3, 5, 8**2, 54, 21, 34])\n",
    "print(\"Primero: \", t1[0])\n",
    "print(\"Segundo: \", t1[1])\n",
    "print(\"Penúltimo: \", t1[-2].numpy())\n",
    "print(\"Tercero de derecha a izquierda: \", t1[-3].numpy())"
   ]
  },
  {
   "cell_type": "markdown",
   "metadata": {},
   "source": [
    "#### Extraer slices de un tensor"
   ]
  },
  {
   "cell_type": "code",
   "execution_count": 14,
   "metadata": {},
   "outputs": [
    {
     "name": "stdout",
     "output_type": "stream",
     "text": [
      "Todo [ 0.  9.  1.  2.  3.  5. 64. 54. 21. 34.]\n",
      "Antes la posición 7  [ 0.  9.  1.  2.  3.  5. 64.]\n",
      "Desde la posición 1 hasta el final [ 9.  1.  2.  3.  5. 64. 54. 21. 34.]\n",
      "Desde la posición 5 hasta anterior a 7 [ 5. 64.]\n",
      "Todos los elementos en posición par  [ 0.  1.  3. 64. 21.]\n",
      "Invertido todo el orden [34. 21. 54. 64.  5.  3.  2.  1.  9.  0.]\n"
     ]
    }
   ],
   "source": [
    "print('Todo', t1[:].numpy())\n",
    "print('Antes la posición 7 ', t1[:7].numpy())\n",
    "print('Desde la posición 1 hasta el final', t1[1:].numpy())\n",
    "print('Desde la posición 5 hasta anterior a 7', t1[5:7].numpy())\n",
    "print('Todos los elementos en posición par ', t1[::2].numpy())\n",
    "print('Invertido todo el orden', t1[::-1].numpy())"
   ]
  },
  {
   "cell_type": "markdown",
   "metadata": {},
   "source": [
    "#### Indexación multi-eje"
   ]
  },
  {
   "cell_type": "code",
   "execution_count": 15,
   "metadata": {},
   "outputs": [
    {
     "name": "stdout",
     "output_type": "stream",
     "text": [
      "[[1 2 3]\n",
      " [4 5 6]\n",
      " [7 8 9]]\n"
     ]
    }
   ],
   "source": [
    "t23 = tf.constant([[1, 2, 3],[4, 5, 6],[7,8,9]])\n",
    "print(t23.numpy())"
   ]
  },
  {
   "cell_type": "code",
   "execution_count": 16,
   "metadata": {},
   "outputs": [
    {
     "name": "stdout",
     "output_type": "stream",
     "text": [
      "Posición 0,1 =  2\n",
      "Segunda fila:  [4 5 6]\n",
      "Tercera columna:  [3 6 9]\n",
      "Última columna:  [3 6 9]\n",
      "Primer elemento de la última columna:  3\n",
      "Saltarse la primera columna: \n",
      " [[2 3]\n",
      " [5 6]\n",
      " [8 9]]\n",
      "Saltarse la segunda fila y la primera columna: \n",
      " [[2 3]\n",
      " [8 9]]\n"
     ]
    }
   ],
   "source": [
    "print('Posición 0,1 = ',t23[0,1].numpy())#recordar que empieza desde 0\n",
    "print('Segunda fila: ', t23[1,:].numpy())\n",
    "print('Tercera columna: ', t23[:,2].numpy())\n",
    "print('Última columna: ', t23[:,-1].numpy())\n",
    "print('Primer elemento de la última columna: ', t23[0,-1].numpy())\n",
    "print('Saltarse la primera columna: \\n', t23[:,1:].numpy())\n",
    "print('Saltarse la segunda fila y la primera columna: \\n', t23[::2,1:].numpy())"
   ]
  },
  {
   "cell_type": "code",
   "execution_count": 17,
   "metadata": {},
   "outputs": [
    {
     "name": "stdout",
     "output_type": "stream",
     "text": [
      "[[[ 0  1  2  3  4]\n",
      "  [ 5  6  7  8  9]]\n",
      "\n",
      " [[10 11 12 13 14]\n",
      "  [15 16 17 18 19]]\n",
      "\n",
      " [[20 21 22 23 24]\n",
      "  [25 26 27 28 29]]]\n"
     ]
    }
   ],
   "source": [
    "t = tf.constant([\n",
    "  [[0, 1, 2, 3, 4],\n",
    "   [5, 6, 7, 8, 9]],\n",
    "  [[10, 11, 12, 13, 14],\n",
    "   [15, 16, 17, 18, 19]],\n",
    "  [[20, 21, 22, 23, 24],\n",
    "   [25, 26, 27, 28, 29]],]) \n",
    "print(t.numpy())"
   ]
  },
  {
   "cell_type": "code",
   "execution_count": 18,
   "metadata": {},
   "outputs": [
    {
     "name": "stdout",
     "output_type": "stream",
     "text": [
      "Extrae la primera capa\n",
      " [[0 1 2 3 4]\n",
      " [5 6 7 8 9]]\n",
      "Extrae la segunda capa\n",
      " [[10 11 12 13 14]\n",
      " [15 16 17 18 19]]\n",
      "Extrae la primera capa, columna 1,2 y 3, fila 1\n",
      " [0 1 2]\n"
     ]
    }
   ],
   "source": [
    "print('Extrae la primera capa\\n', t[0,:,:].numpy())\n",
    "print('Extrae la segunda capa\\n', t[1].numpy())\n",
    "print('Extrae la primera capa, columna 1,2 y 3, fila 1\\n', t[0,0,0:3].numpy())"
   ]
  },
  {
   "cell_type": "markdown",
   "metadata": {},
   "source": [
    "#### Manipular formas"
   ]
  },
  {
   "cell_type": "code",
   "execution_count": 19,
   "metadata": {},
   "outputs": [
    {
     "name": "stdout",
     "output_type": "stream",
     "text": [
      "(3, 1)\n",
      "[3, 1]\n"
     ]
    }
   ],
   "source": [
    "x = tf.constant([[1],[2],[3]])\n",
    "print(x.shape)\n",
    "print(x.shape.as_list())"
   ]
  },
  {
   "cell_type": "code",
   "execution_count": 20,
   "metadata": {},
   "outputs": [
    {
     "name": "stdout",
     "output_type": "stream",
     "text": [
      "[[1 2 3]]\n",
      "[[1]\n",
      " [2]\n",
      " [3]]\n"
     ]
    }
   ],
   "source": [
    "reshaped = tf.reshape(x,[1,3])\n",
    "print(reshaped.numpy())\n",
    "print(x.numpy())"
   ]
  },
  {
   "cell_type": "markdown",
   "metadata": {},
   "source": [
    "#### Aplanar un tensor"
   ]
  },
  {
   "cell_type": "code",
   "execution_count": 28,
   "metadata": {},
   "outputs": [
    {
     "name": "stdout",
     "output_type": "stream",
     "text": [
      "t actual: \n",
      " [[[ 0  1  2  3  4]\n",
      "  [ 5  6  7  8  9]]\n",
      "\n",
      " [[10 11 12 13 14]\n",
      "  [15 16 17 18 19]]\n",
      "\n",
      " [[20 21 22 23 24]\n",
      "  [25 26 27 28 29]]]\n",
      "\n",
      " t aplanado: \n",
      " [ 0  1  2  3  4  5  6  7  8  9 10 11 12 13 14 15 16 17 18 19 20 21 22 23\n",
      " 24 25 26 27 28 29]\n"
     ]
    }
   ],
   "source": [
    "print(\"t actual: \\n\", t.numpy())\n",
    "flat = tf.reshape(t, [-1])\n",
    "print(\"\\n t aplanado: \\n\", flat.numpy())"
   ]
  },
  {
   "cell_type": "code",
   "execution_count": 30,
   "metadata": {},
   "outputs": [
    {
     "name": "stdout",
     "output_type": "stream",
     "text": [
      "tf.Tensor(\n",
      "[[ 0  1  2  3  4]\n",
      " [ 5  6  7  8  9]\n",
      " [10 11 12 13 14]\n",
      " [15 16 17 18 19]\n",
      " [20 21 22 23 24]\n",
      " [25 26 27 28 29]], shape=(6, 5), dtype=int32)\n"
     ]
    }
   ],
   "source": [
    "print(tf.reshape(t, [2*3,5]))"
   ]
  },
  {
   "cell_type": "code",
   "execution_count": 51,
   "metadata": {},
   "outputs": [
    {
     "name": "stdout",
     "output_type": "stream",
     "text": [
      "tf.Tensor(\n",
      "[[ 0  1  2]\n",
      " [ 3  4  5]\n",
      " [ 6  7  8]\n",
      " [ 9 10 11]\n",
      " [12 13 14]\n",
      " [15 16 17]\n",
      " [18 19 20]\n",
      " [21 22 23]\n",
      " [24 25 26]\n",
      " [27 28 29]], shape=(10, 3), dtype=int32)\n"
     ]
    }
   ],
   "source": [
    "print(tf.reshape(t, [-1,3]))"
   ]
  },
  {
   "cell_type": "markdown",
   "metadata": {},
   "source": [
    "#### Tipos de conversiones cast"
   ]
  },
  {
   "cell_type": "code",
   "execution_count": 64,
   "metadata": {},
   "outputs": [
    {
     "name": "stdout",
     "output_type": "stream",
     "text": [
      "tf.Tensor([87.1626 14.2935  6.3987], shape=(3,), dtype=float32)\n",
      "tf.Tensor([87.2 14.3  6.4], shape=(3,), dtype=float16)\n",
      "tf.Tensor([87 14  6], shape=(3,), dtype=uint8)\n"
     ]
    }
   ],
   "source": [
    "f32_tensor = tf.constant([87.1626, 14.2935, 6.3987], dtype = tf.float32)\n",
    "print(f32_tensor)\n",
    "\n",
    "f16_tensor = tf.cast(f32_tensor,dtype= tf.float16) # con float16 se aproximan decimales\n",
    "print(f16_tensor)\n",
    "\n",
    "u8_tensor = tf.cast(f16_tensor, dtype = tf.uint8) #enteros\n",
    "print(u8_tensor)"
   ]
  },
  {
   "cell_type": "markdown",
   "metadata": {},
   "source": [
    "#### Radiodifusión"
   ]
  },
  {
   "cell_type": "markdown",
   "metadata": {},
   "source": [
    "##### Estiramiento de vectores para lograr una adpatación hacia con otros para poder obtener la operación requerida"
   ]
  },
  {
   "cell_type": "code",
   "execution_count": 71,
   "metadata": {},
   "outputs": [
    {
     "name": "stdout",
     "output_type": "stream",
     "text": [
      "tf.Tensor([ 6 64 22], shape=(3,), dtype=int32)\n",
      "tf.Tensor([ 6 64 22], shape=(3,), dtype=int32)\n",
      "tf.Tensor([ 6 64 22], shape=(3,), dtype=int32)\n"
     ]
    }
   ],
   "source": [
    "x = tf.constant([np.sqrt(9), 2**5 ,11])\n",
    "x = tf.cast(x,dtype=tf.int32)\n",
    "y = tf.constant(2)\n",
    "z = tf.constant([2.5, 2.6 ,2.7])\n",
    "z = tf.cast(z, dtype=tf.int32)\n",
    "# el mismo resultado\n",
    "print(tf.multiply(x,2))\n",
    "print(x*y)\n",
    "print(x*z)"
   ]
  },
  {
   "cell_type": "code",
   "execution_count": 82,
   "metadata": {},
   "outputs": [
    {
     "name": "stdout",
     "output_type": "stream",
     "text": [
      "[[4 8 5 1]\n",
      " [4 8 5 1]\n",
      " [4 8 5 1]\n",
      " [4 8 5 1]\n",
      " [4 8 5 1]]\n"
     ]
    }
   ],
   "source": [
    "print(tf.broadcast_to([4,8,5,1], [5,4]).numpy())#el segundo parámetro debe consistir con # de elementos"
   ]
  },
  {
   "cell_type": "markdown",
   "metadata": {},
   "source": [
    "#### Tensores de strings"
   ]
  },
  {
   "cell_type": "code",
   "execution_count": 83,
   "metadata": {},
   "outputs": [
    {
     "name": "stdout",
     "output_type": "stream",
     "text": [
      "tf.Tensor([b'Este tensor es string' b'Cadena 2 de string' b'IA' b'Hola mundo'], shape=(4,), dtype=string)\n"
     ]
    }
   ],
   "source": [
    "st = tf.constant([\"Este tensor es string\",\n",
    "                 \"Cadena 2 de string\",\n",
    "                 \"IA\",\n",
    "                 \"Hola mundo\"])\n",
    "print(st)"
   ]
  },
  {
   "cell_type": "code",
   "execution_count": 85,
   "metadata": {},
   "outputs": [
    {
     "name": "stdout",
     "output_type": "stream",
     "text": [
      "<tf.RaggedTensor [[b'Este', b'tensor', b'es', b'string'], [b'Cadena', b'2', b'de', b'string'], [b'IA'], [b'Hola', b'mundo']]>\n"
     ]
    }
   ],
   "source": [
    "print(tf.strings.split(st))#Separa por cada parte del string(este  tensor...)"
   ]
  },
  {
   "cell_type": "code",
   "execution_count": null,
   "metadata": {},
   "outputs": [],
   "source": []
  }
 ],
 "metadata": {
  "kernelspec": {
   "display_name": "Python 3",
   "language": "python",
   "name": "python3"
  },
  "language_info": {
   "codemirror_mode": {
    "name": "ipython",
    "version": 3
   },
   "file_extension": ".py",
   "mimetype": "text/x-python",
   "name": "python",
   "nbconvert_exporter": "python",
   "pygments_lexer": "ipython3",
   "version": "3.8.5"
  }
 },
 "nbformat": 4,
 "nbformat_minor": 4
}
